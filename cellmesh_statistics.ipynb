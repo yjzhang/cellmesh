{
 "cells": [
  {
   "cell_type": "code",
   "execution_count": 1,
   "metadata": {},
   "outputs": [],
   "source": [
    "import cellmesh\n",
    "import matplotlib.pyplot as plt\n",
    "import numpy as np"
   ]
  },
  {
   "cell_type": "markdown",
   "metadata": {},
   "source": [
    "## CellMeSH statistics"
   ]
  },
  {
   "cell_type": "markdown",
   "metadata": {},
   "source": [
    "### Number of Cells"
   ]
  },
  {
   "cell_type": "code",
   "execution_count": 2,
   "metadata": {},
   "outputs": [
    {
     "data": {
      "text/plain": [
       "570"
      ]
     },
     "execution_count": 2,
     "metadata": {},
     "output_type": "execute_result"
    }
   ],
   "source": [
    "all_cell_ids = cellmesh.get_all_cell_id_names(include_cell_components=True,\n",
    "                                              include_cell_lines=True, include_chromosomes=True)\n",
    "len(all_cell_ids)"
   ]
  },
  {
   "cell_type": "code",
   "execution_count": 3,
   "metadata": {},
   "outputs": [
    {
     "data": {
      "text/plain": [
       "292"
      ]
     },
     "execution_count": 3,
     "metadata": {},
     "output_type": "execute_result"
    }
   ],
   "source": [
    "subset_cell_ids = cellmesh.get_all_cell_id_names(include_cell_components=False,\n",
    "                                                include_cell_lines=False,\n",
    "                                                include_chromosomes=False)\n",
    "len(subset_cell_ids)"
   ]
  },
  {
   "cell_type": "markdown",
   "metadata": {},
   "source": [
    "There are 570 total entries, and 292 entries after excluding cell components (organelles and the like), cell lines, and chromosomes."
   ]
  },
  {
   "cell_type": "markdown",
   "metadata": {},
   "source": [
    "### Number of Genes"
   ]
  },
  {
   "cell_type": "code",
   "execution_count": 4,
   "metadata": {},
   "outputs": [
    {
     "name": "stdout",
     "output_type": "stream",
     "text": [
      "number of human genes: 20138\n"
     ]
    }
   ],
   "source": [
    "human_genes = cellmesh.get_all_genes(species='human')\n",
    "print('number of human genes:', len(human_genes))"
   ]
  },
  {
   "cell_type": "code",
   "execution_count": 5,
   "metadata": {},
   "outputs": [
    {
     "name": "stdout",
     "output_type": "stream",
     "text": [
      "number of mouse genes: 27322\n"
     ]
    }
   ],
   "source": [
    "mouse_genes = cellmesh.get_all_genes(species='mouse')\n",
    "print('number of mouse genes:', len(mouse_genes))"
   ]
  },
  {
   "cell_type": "code",
   "execution_count": 6,
   "metadata": {},
   "outputs": [
    {
     "name": "stdout",
     "output_type": "stream",
     "text": [
      "number of c. elegans genes: 20135\n"
     ]
    }
   ],
   "source": [
    "worm_genes = cellmesh.get_all_genes(species='c_elegans')\n",
    "print('number of c. elegans genes:', len(worm_genes))"
   ]
  },
  {
   "cell_type": "markdown",
   "metadata": {},
   "source": [
    "### Distribution of Genes Per Cell (human)"
   ]
  },
  {
   "cell_type": "code",
   "execution_count": 7,
   "metadata": {},
   "outputs": [],
   "source": [
    "human_genes_per_cell = {}\n",
    "for cell_id, cell_name in subset_cell_ids:\n",
    "    human_genes_per_cell[cell_id, cell_name] = cellmesh.get_cell_genes_pmids(cell_id, species='human',\n",
    "                                                                             threshold=0)\n",
    "human_nonzero_genes_per_cell = {k: len(v) for k, v in human_genes_per_cell.items()}\n",
    "genes_count = np.array([v for k, v in human_nonzero_genes_per_cell.items()])\n",
    "cell_id_names = np.array([k for k, v in human_nonzero_genes_per_cell.items()])"
   ]
  },
  {
   "cell_type": "code",
   "execution_count": 8,
   "metadata": {},
   "outputs": [
    {
     "data": {
      "image/png": "[encoded data removed]",
      "text/plain": [
       "<matplotlib.figure.Figure at 0x7f028310d128>"
      ]
     },
     "metadata": {
      "needs_background": "light"
     },
     "output_type": "display_data"
    }
   ],
   "source": [
    "plt.figure(figsize=(10, 8))\n",
    "plt.title('Distribution of the number of co-occurring genes per cell type')\n",
    "plt.hist(genes_count, bins=100)\n",
    "plt.grid()\n",
    "plt.xlabel('Number of co-occurring genes')\n",
    "plt.ylabel('Number of cell types')\n",
    "plt.show()"
   ]
  },
  {
   "cell_type": "code",
   "execution_count": 9,
   "metadata": {},
   "outputs": [
    {
     "name": "stdout",
     "output_type": "stream",
     "text": [
      "mean genes per cell: 397.88013698630135\n",
      "median genes per cell: 72.5\n"
     ]
    }
   ],
   "source": [
    "print('mean genes per cell:', np.mean(genes_count))\n",
    "print('median genes per cell:', np.median(genes_count))"
   ]
  },
  {
   "cell_type": "code",
   "execution_count": 10,
   "metadata": {},
   "outputs": [
    {
     "name": "stdout",
     "output_type": "stream",
     "text": [
      "number of cells with zero genes: 19\n",
      "number of cells with one gene: 13\n",
      "number of cells with more than one gene: 260\n"
     ]
    }
   ],
   "source": [
    "print('number of cells with zero genes:', (genes_count == 0).sum())\n",
    "print('number of cells with one gene:', (genes_count == 1).sum())\n",
    "print('number of cells with more than one gene:', (genes_count > 1).sum())"
   ]
  },
  {
   "cell_type": "markdown",
   "metadata": {},
   "source": [
    "### Distribution of Cells Per Gene (human)"
   ]
  },
  {
   "cell_type": "code",
   "execution_count": 32,
   "metadata": {},
   "outputs": [],
   "source": [
    "human_cells_per_gene = {}\n",
    "human_refs_per_gene = {}\n",
    "for gene in human_genes:\n",
    "    human_cells_per_gene[gene] = []\n",
    "    human_refs_per_gene[gene] = 0\n",
    "for cell_id, cell_name in subset_cell_ids:\n",
    "    gene_list = cellmesh.get_cell_genes_pmids(cell_id, species='human', threshold=0, return_count=True)\n",
    "    for gene, gene_id, count in gene_list:\n",
    "        human_cells_per_gene[gene].append((cell_id, cell_name))\n",
    "        human_refs_per_gene[gene] += count\n",
    "        \n",
    "human_nonzero_cells_per_gene = {k: len(v) for k, v in human_cells_per_gene.items()}\n",
    "cells_count = np.array([v for k, v in human_nonzero_cells_per_gene.items()])\n",
    "gene_names = np.array([k for k, v in human_nonzero_cells_per_gene.items()])\n",
    "gene_ref_counts = np.array([human_refs_per_gene[k] for k in gene_names])"
   ]
  },
  {
   "cell_type": "code",
   "execution_count": 12,
   "metadata": {},
   "outputs": [
    {
     "data": {
      "image/png": "[encoded data removed]",
      "text/plain": [
       "<matplotlib.figure.Figure at 0x7f0282fde0f0>"
      ]
     },
     "metadata": {
      "needs_background": "light"
     },
     "output_type": "display_data"
    }
   ],
   "source": [
    "plt.figure(figsize=(10, 8))\n",
    "plt.title('Distribution of the number of co-occurring cell types per gene')\n",
    "plt.hist(cells_count, bins=100)\n",
    "plt.grid()\n",
    "plt.xlabel('Number of co-occurring cell types')\n",
    "plt.ylabel('Number of genes')\n",
    "plt.show()"
   ]
  },
  {
   "cell_type": "code",
   "execution_count": 33,
   "metadata": {},
   "outputs": [
    {
     "data": {
      "image/png": "[encoded data removed]",
      "text/plain": [
       "<matplotlib.figure.Figure at 0x7f0276d4f898>"
      ]
     },
     "metadata": {
      "needs_background": "light"
     },
     "output_type": "display_data"
    }
   ],
   "source": [
    "plt.figure(figsize=(10, 8))\n",
    "plt.title('Distribution of reference counts per gene')\n",
    "plt.hist(gene_ref_counts, bins=100)\n",
    "plt.grid()\n",
    "plt.xlabel('Number of reference counts')\n",
    "plt.ylabel('Number of genes')\n",
    "plt.show()"
   ]
  },
  {
   "cell_type": "code",
   "execution_count": 34,
   "metadata": {},
   "outputs": [
    {
     "name": "stdout",
     "output_type": "stream",
     "text": [
      "mean cells per gene: 5.769242228622505\n",
      "median cells per gene: 2.0\n",
      "mean referencess per gene: 15.096484258615552\n",
      "median references per gene: 3.0\n"
     ]
    }
   ],
   "source": [
    "print('mean cells per gene:', np.mean(cells_count))\n",
    "print('median cells per gene:', np.median(cells_count))\n",
    "\n",
    "print('mean referencess per gene:', np.mean(gene_ref_counts))\n",
    "print('median references per gene:', np.median(gene_ref_counts))"
   ]
  },
  {
   "cell_type": "code",
   "execution_count": 14,
   "metadata": {},
   "outputs": [
    {
     "name": "stdout",
     "output_type": "stream",
     "text": [
      "number of genes with zero cell types: 4975\n",
      "number of genes with one cell type: 3371\n",
      "number of genes with more than one cell type: 11792\n"
     ]
    }
   ],
   "source": [
    "print('number of genes with zero cell types:', (cells_count == 0).sum())\n",
    "print('number of genes with one cell type:', (cells_count == 1).sum())\n",
    "print('number of genes with more than one cell type:', (cells_count > 1).sum())"
   ]
  },
  {
   "cell_type": "markdown",
   "metadata": {},
   "source": [
    "### Extrema"
   ]
  },
  {
   "cell_type": "code",
   "execution_count": 15,
   "metadata": {},
   "outputs": [
    {
     "name": "stdout",
     "output_type": "stream",
     "text": [
      "cell with most genes:\n",
      "Cell type: ['D005347' 'Fibroblasts'] gene count: 6186\n",
      "Cell type: ['D009474' 'Neurons'] gene count: 5013\n",
      "Cell type: ['D004847' 'Epithelial Cells'] gene count: 4852\n",
      "Cell type: ['D013601' 'T-Lymphocytes'] gene count: 3592\n",
      "Cell type: ['D008264' 'Macrophages'] gene count: 3233\n",
      "Cell type: ['D013234' 'Stem Cells'] gene count: 2953\n",
      "Cell type: ['D009000' 'Monocytes'] gene count: 2803\n",
      "Cell type: ['D042783' 'Endothelial Cells'] gene count: 2603\n",
      "Cell type: ['D001402' 'B-Lymphocytes'] gene count: 2589\n",
      "Cell type: ['D008214' 'Lymphocytes'] gene count: 2415\n",
      "Cell type: ['D015603' 'Keratinocytes'] gene count: 2069\n",
      "Cell type: ['D015496' 'CD4-Positive T-Lymphocytes'] gene count: 2063\n",
      "Cell type: ['D050199' 'Podocytes'] gene count: 2033\n",
      "Cell type: ['D007694' 'Killer Cells, Natural'] gene count: 2000\n",
      "Cell type: ['D007963' 'Leukocytes, Mononuclear'] gene count: 1999\n",
      "Cell type: ['D007962' 'Leukocytes'] gene count: 1847\n",
      "Cell type: ['D006412' 'Hematopoietic Stem Cells'] gene count: 1804\n",
      "Cell type: ['D053595' 'Embryonic Stem Cells'] gene count: 1768\n",
      "Cell type: ['D061307' 'Human Umbilical Vein Endothelial Cells'] gene count: 1721\n",
      "Cell type: ['D022781' 'Hepatocytes'] gene count: 1670\n",
      "\n",
      "cells with zero genes:\n",
      "[['D000078422' 'Allogeneic Cells']\n",
      " ['D000072956' 'Adult Germline Stem Cells']\n",
      " ['D006057' 'Golgi-Mazzoni Corpuscles']\n",
      " ['D001339' 'Autonomic Fibers, Preganglionic']\n",
      " ['D000071037' 'Place Cells']\n",
      " ['D043485' 'Glomus Tympanicum']\n",
      " ['D033761' 'Spores, Protozoan']\n",
      " ['D002856' 'Chromatophores']\n",
      " ['D008534' 'Megaloblasts']\n",
      " ['D000072977' 'Oogonial Stem Cells']\n",
      " ['D009441' 'Neurilemma']\n",
      " ['D005924' 'Glomus Jugulare']\n",
      " ['D066293' 'Renshaw Cells']\n",
      " ['D001338' 'Autonomic Fibers, Postganglionic']\n",
      " ['D001078' 'APUD Cells']\n",
      " ['D066294' 'Commissural Interneurons']\n",
      " ['D001016' 'Aortic Bodies']\n",
      " ['D000074523' 'Suprachiasmatic Nucleus Neurons']\n",
      " ['D009047' 'Motor Neurons, Gamma']]\n"
     ]
    }
   ],
   "source": [
    "# top 10 cell types by gene count\n",
    "gene_count_indices = np.argsort(genes_count)[::-1]\n",
    "print('cell with most genes:')\n",
    "for x, y in zip(cell_id_names[gene_count_indices[:20]], genes_count[gene_count_indices[:20]]):\n",
    "    print('Cell type:', x, 'gene count:', y)\n",
    "print()\n",
    "\n",
    "# cell types with zero genes\n",
    "print('cells with zero genes:')\n",
    "print(cell_id_names[genes_count == 0])\n",
    "\n"
   ]
  },
  {
   "cell_type": "code",
   "execution_count": 35,
   "metadata": {},
   "outputs": [
    {
     "name": "stdout",
     "output_type": "stream",
     "text": [
      "genes associated with most cell types:\n",
      "Gene: L3HYPDH cell type count: 115\n",
      "Gene: HAX1 cell type count: 110\n",
      "Gene: SPRR2G cell type count: 107\n",
      "Gene: CDV3 cell type count: 105\n",
      "Gene: FGD4 cell type count: 101\n",
      "Gene: MEP1A cell type count: 100\n",
      "Gene: BRINP1 cell type count: 98\n",
      "Gene: ARHGEF12 cell type count: 98\n",
      "Gene: COMMD4 cell type count: 95\n",
      "Gene: CCL4L2 cell type count: 94\n",
      "Gene: PRR14 cell type count: 94\n",
      "Gene: GLB1 cell type count: 93\n",
      "Gene: SPRED1 cell type count: 93\n",
      "Gene: FAM20C cell type count: 91\n",
      "Gene: MAFB cell type count: 90\n",
      "Gene: S100PBP cell type count: 87\n",
      "Gene: MYADML2 cell type count: 87\n",
      "Gene: HLA-DRB5 cell type count: 87\n",
      "Gene: LOC112268320 cell type count: 87\n",
      "Gene: ZAN cell type count: 85\n"
     ]
    }
   ],
   "source": [
    "# top 10 genes by cell type count\n",
    "cell_count_indices = np.argsort(cells_count)[::-1]\n",
    "human_genes = np.array(human_genes)\n",
    "cells_count = np.array(cells_count)\n",
    "print('genes associated with most cell types:')\n",
    "for x, y in zip(human_genes[cell_count_indices[:20]], cells_count[cell_count_indices[:20]]):\n",
    "    print('Gene:', x, 'cell type count:', y)\n"
   ]
  },
  {
   "cell_type": "code",
   "execution_count": 36,
   "metadata": {},
   "outputs": [
    {
     "name": "stdout",
     "output_type": "stream",
     "text": [
      "genes associated with most cell types:\n",
      "Gene: HAX1 reference count: 2115\n",
      "Gene: L3HYPDH reference count: 2017\n",
      "Gene: CDV3 reference count: 1550\n",
      "Gene: FGD4 reference count: 1419\n",
      "Gene: COMMD4 reference count: 1364\n",
      "Gene: FOXN1 reference count: 1363\n",
      "Gene: CNMD reference count: 1345\n",
      "Gene: SPRR2G reference count: 1338\n",
      "Gene: S100PBP reference count: 1242\n",
      "Gene: ZAN reference count: 1241\n",
      "Gene: GID4 reference count: 1222\n",
      "Gene: UPF3B reference count: 1174\n",
      "Gene: ARHGEF12 reference count: 1116\n",
      "Gene: FAM20C reference count: 1078\n",
      "Gene: CCL4L2 reference count: 1065\n",
      "Gene: SYPL2 reference count: 1012\n",
      "Gene: MEP1A reference count: 941\n",
      "Gene: MSBP1 reference count: 900\n",
      "Gene: GLB1 reference count: 853\n",
      "Gene: BRINP1 reference count: 852\n"
     ]
    }
   ],
   "source": [
    "# top 20 genes by references\n",
    "ref_count_indices = np.argsort(gene_ref_counts)[::-1]\n",
    "print('genes associated with most cell types:')\n",
    "for x, y in zip(human_genes[ref_count_indices[:20]], gene_ref_counts[ref_count_indices[:20]]):\n",
    "    print('Gene:', x, 'reference count:', y)\n"
   ]
  },
  {
   "cell_type": "code",
   "execution_count": null,
   "metadata": {},
   "outputs": [],
   "source": []
  }
 ],
 "metadata": {
  "kernelspec": {
   "display_name": "Python 3",
   "language": "python",
   "name": "python3"
  },
  "language_info": {
   "codemirror_mode": {
    "name": "ipython",
    "version": 3
   },
   "file_extension": ".py",
   "mimetype": "text/x-python",
   "name": "python",
   "nbconvert_exporter": "python",
   "pygments_lexer": "ipython3",
   "version": "3.5.2"
  }
 },
 "nbformat": 4,
 "nbformat_minor": 4
}
