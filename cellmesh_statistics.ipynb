{
 "cells": [
  {
   "cell_type": "code",
   "execution_count": 18,
   "metadata": {},
   "outputs": [],
   "source": [
    "import cellmesh\n",
    "import matplotlib.pyplot as plt\n",
    "import numpy as np"
   ]
  },
  {
   "cell_type": "markdown",
   "metadata": {},
   "source": [
    "## CellMeSH statistics"
   ]
  },
  {
   "cell_type": "markdown",
   "metadata": {},
   "source": [
    "### Number of Cells"
   ]
  },
  {
   "cell_type": "code",
   "execution_count": 6,
   "metadata": {},
   "outputs": [
    {
     "data": {
      "text/plain": [
       "570"
      ]
     },
     "execution_count": 6,
     "metadata": {},
     "output_type": "execute_result"
    }
   ],
   "source": [
    "all_cell_ids = cellmesh.get_all_cell_id_names(include_cell_components=True,\n",
    "                                              include_cell_lines=True, include_chromosomes=True)\n",
    "len(all_cell_ids)"
   ]
  },
  {
   "cell_type": "code",
   "execution_count": 8,
   "metadata": {},
   "outputs": [
    {
     "data": {
      "text/plain": [
       "292"
      ]
     },
     "execution_count": 8,
     "metadata": {},
     "output_type": "execute_result"
    }
   ],
   "source": [
    "subset_cell_ids = cellmesh.get_all_cell_id_names(include_cell_components=False,\n",
    "                                                include_cell_lines=False,\n",
    "                                                include_chromosomes=False)\n",
    "len(subset_cell_ids)"
   ]
  },
  {
   "cell_type": "markdown",
   "metadata": {},
   "source": [
    "There are 570 total entries, and 292 entries after excluding cell components (organelles and the like), cell lines, and chromosomes."
   ]
  },
  {
   "cell_type": "markdown",
   "metadata": {},
   "source": [
    "### Number of Genes"
   ]
  },
  {
   "cell_type": "code",
   "execution_count": 11,
   "metadata": {},
   "outputs": [
    {
     "name": "stdout",
     "output_type": "stream",
     "text": [
      "number of human genes: 20138\n"
     ]
    }
   ],
   "source": [
    "human_genes = cellmesh.get_all_genes(species='human')\n",
    "print('number of human genes:', len(human_genes))"
   ]
  },
  {
   "cell_type": "code",
   "execution_count": 12,
   "metadata": {},
   "outputs": [
    {
     "name": "stdout",
     "output_type": "stream",
     "text": [
      "number of mouse genes: 27322\n"
     ]
    }
   ],
   "source": [
    "mouse_genes = cellmesh.get_all_genes(species='mouse')\n",
    "print('number of mouse genes:', len(mouse_genes))"
   ]
  },
  {
   "cell_type": "code",
   "execution_count": 13,
   "metadata": {},
   "outputs": [
    {
     "name": "stdout",
     "output_type": "stream",
     "text": [
      "number of c. elegans genes: 20135\n"
     ]
    }
   ],
   "source": [
    "worm_genes = cellmesh.get_all_genes(species='c_elegans')\n",
    "print('number of c. elegans genes:', len(worm_genes))"
   ]
  },
  {
   "cell_type": "markdown",
   "metadata": {},
   "source": [
    "### Distribution of Genes Per Cell (human)"
   ]
  },
  {
   "cell_type": "code",
   "execution_count": 53,
   "metadata": {},
   "outputs": [],
   "source": [
    "human_genes_per_cell = {}\n",
    "for cell_id, cell_name in subset_cell_ids:\n",
    "    human_genes_per_cell[cell_id, cell_name] = cellmesh.get_cell_genes_pmids(cell_id, species='human',\n",
    "                                                                             threshold=0)\n",
    "human_nonzero_genes_per_cell = {k: len(v) for k, v in human_genes_per_cell.items()}\n",
    "genes_count = np.array([v for k, v in human_nonzero_genes_per_cell.items()])\n",
    "cell_id_names = np.array([k for k, v in human_nonzero_genes_per_cell.items()])"
   ]
  },
  {
   "cell_type": "code",
   "execution_count": 54,
   "metadata": {},
   "outputs": [
    {
     "data": {
      "image/png": "[encoded data removed]",
      "text/plain": [
       "<matplotlib.figure.Figure at 0x7f3874d3fda0>"
      ]
     },
     "metadata": {},
     "output_type": "display_data"
    }
   ],
   "source": [
    "plt.figure(figsize=(10, 8))\n",
    "plt.title('Distribution of the number of co-occurring genes per cell type')\n",
    "plt.hist(genes_count, bins=100)\n",
    "plt.grid()\n",
    "plt.xlabel('Number of co-occurring genes')\n",
    "plt.ylabel('Number of cell types')\n",
    "plt.show()"
   ]
  },
  {
   "cell_type": "code",
   "execution_count": 55,
   "metadata": {},
   "outputs": [
    {
     "name": "stdout",
     "output_type": "stream",
     "text": [
      "mean genes per cell: 397.88013698630135\n",
      "median genes per cell: 72.5\n"
     ]
    }
   ],
   "source": [
    "print('mean genes per cell:', np.mean(genes_count))\n",
    "print('median genes per cell:', np.median(genes_count))"
   ]
  },
  {
   "cell_type": "code",
   "execution_count": 56,
   "metadata": {},
   "outputs": [
    {
     "name": "stdout",
     "output_type": "stream",
     "text": [
      "number of cells with zero genes: 19\n",
      "number of cells with one gene: 13\n",
      "number of cells with more than one gene: 260\n"
     ]
    }
   ],
   "source": [
    "print('number of cells with zero genes:', (genes_count == 0).sum())\n",
    "print('number of cells with one gene:', (genes_count == 1).sum())\n",
    "print('number of cells with more than one gene:', (genes_count > 1).sum())"
   ]
  },
  {
   "cell_type": "markdown",
   "metadata": {},
   "source": [
    "### Extrema"
   ]
  },
  {
   "cell_type": "code",
   "execution_count": 70,
   "metadata": {},
   "outputs": [
    {
     "name": "stdout",
     "output_type": "stream",
     "text": [
      "cell with most genes:\n",
      "Cell type: ['D005347' 'Fibroblasts'] gene count: 6186\n",
      "Cell type: ['D009474' 'Neurons'] gene count: 5013\n",
      "Cell type: ['D004847' 'Epithelial Cells'] gene count: 4852\n",
      "Cell type: ['D013601' 'T-Lymphocytes'] gene count: 3592\n",
      "Cell type: ['D008264' 'Macrophages'] gene count: 3233\n",
      "Cell type: ['D013234' 'Stem Cells'] gene count: 2953\n",
      "Cell type: ['D009000' 'Monocytes'] gene count: 2803\n",
      "Cell type: ['D042783' 'Endothelial Cells'] gene count: 2603\n",
      "Cell type: ['D001402' 'B-Lymphocytes'] gene count: 2589\n",
      "Cell type: ['D008214' 'Lymphocytes'] gene count: 2415\n",
      "\n",
      "cells with zero genes:\n",
      "[['D009047' 'Motor Neurons, Gamma']\n",
      " ['D000072977' 'Oogonial Stem Cells']\n",
      " ['D000074523' 'Suprachiasmatic Nucleus Neurons']\n",
      " ['D000078422' 'Allogeneic Cells']\n",
      " ['D000071037' 'Place Cells']\n",
      " ['D001339' 'Autonomic Fibers, Preganglionic']\n",
      " ['D006057' 'Golgi-Mazzoni Corpuscles']\n",
      " ['D002856' 'Chromatophores']\n",
      " ['D001078' 'APUD Cells']\n",
      " ['D000072956' 'Adult Germline Stem Cells']\n",
      " ['D066294' 'Commissural Interneurons']\n",
      " ['D008534' 'Megaloblasts']\n",
      " ['D001338' 'Autonomic Fibers, Postganglionic']\n",
      " ['D001016' 'Aortic Bodies']\n",
      " ['D009441' 'Neurilemma']\n",
      " ['D066293' 'Renshaw Cells']\n",
      " ['D005924' 'Glomus Jugulare']\n",
      " ['D033761' 'Spores, Protozoan']\n",
      " ['D043485' 'Glomus Tympanicum']]\n"
     ]
    }
   ],
   "source": [
    "# top 10 cell types by gene count\n",
    "gene_count_indices = np.argsort(genes_count)[::-1]\n",
    "print('cell with most genes:')\n",
    "for x, y in zip(cell_id_names[gene_count_indices[:10]], genes_count[gene_count_indices[:10]]):\n",
    "    print('Cell type:', x, 'gene count:', y)\n",
    "print()\n",
    "\n",
    "# cell types with zero genes\n",
    "print('cells with zero genes:')\n",
    "print(cell_id_names[genes_count == 0])\n",
    "\n"
   ]
  },
  {
   "cell_type": "code",
   "execution_count": null,
   "metadata": {},
   "outputs": [],
   "source": []
  }
 ],
 "metadata": {
  "kernelspec": {
   "display_name": "Python 3",
   "language": "python",
   "name": "python3"
  },
  "language_info": {
   "codemirror_mode": {
    "name": "ipython",
    "version": 3
   },
   "file_extension": ".py",
   "mimetype": "text/x-python",
   "name": "python",
   "nbconvert_exporter": "python",
   "pygments_lexer": "ipython3",
   "version": "3.5.2"
  }
 },
 "nbformat": 4,
 "nbformat_minor": 2
}
